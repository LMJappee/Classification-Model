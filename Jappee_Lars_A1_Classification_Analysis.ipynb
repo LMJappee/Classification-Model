{
 "cells": [
  {
   "cell_type": "markdown",
   "id": "44a2c393",
   "metadata": {},
   "source": [
    "# A1: Classification Model Development"
   ]
  },
  {
   "cell_type": "markdown",
   "id": "6b882dc2",
   "metadata": {},
   "source": [
    "Machine Learning - DAT-5303 - BMBAN2<br>\n",
    "Lars Marius Strømberg Jappée"
   ]
  },
  {
   "cell_type": "code",
   "execution_count": 1,
   "id": "dca55cf5",
   "metadata": {},
   "outputs": [],
   "source": [
    "# importing libraries\n",
    "import pandas            as pd                       # data science essentials\n",
    "import matplotlib.pyplot as plt                      # data visualization\n",
    "import seaborn           as sns                      # enhanced data viz\n",
    "import numpy as np\n",
    "from sklearn.model_selection import train_test_split # train-test split\n",
    "from sklearn.linear_model import LogisticRegression  # logistic regression\n",
    "import statsmodels.formula.api as smf                # logistic regression\n",
    "from sklearn.metrics import confusion_matrix         # confusion matrix\n",
    "from sklearn.metrics import roc_auc_score            # auc score\n",
    "from sklearn.neighbors import KNeighborsClassifier   # KNN for classification\n",
    "from sklearn.neighbors import KNeighborsRegressor    # KNN for regression\n",
    "from sklearn.preprocessing import StandardScaler     # standard scaler\n",
    "from sklearn.tree import DecisionTreeClassifier      # classification trees\n",
    "from sklearn.tree import plot_tree                   # tree plots\n",
    "from sklearn.model_selection import RandomizedSearchCV     # hyperparameter tuning\n",
    "from sklearn.metrics import make_scorer              # customizable scorer\n",
    "from sklearn.ensemble import RandomForestClassifier     # random forest\n",
    "from sklearn.ensemble import GradientBoostingClassifier # gbm\n",
    "import gender_guesser.detector as gender # guess gender based on (given) name\n",
    "\n",
    "# specifying file\n",
    "file = \"./GOT_character_predictions.xlsx\"\n",
    "\n",
    "# import excel file\n",
    "got = pd.read_excel(io = file,\n",
    "                    header = 0,\n",
    "                    sheet_name = 0)\n"
   ]
  },
  {
   "cell_type": "markdown",
   "id": "9a11d6db",
   "metadata": {},
   "source": [
    "# User-Defined Functions"
   ]
  },
  {
   "cell_type": "code",
   "execution_count": 2,
   "id": "480d5f01",
   "metadata": {},
   "outputs": [],
   "source": [
    "########################################\n",
    "# optimal_neighbors\n",
    "########################################\n",
    "def optimal_neighbors(x_data,\n",
    "                      y_data,\n",
    "                      standardize = True,\n",
    "                      pct_test=0.10,\n",
    "                      seed=219,\n",
    "                      response_type='reg',\n",
    "                      max_neighbors=20,\n",
    "                      show_viz=True):\n",
    "    \"\"\"\n",
    "Exhaustively compute training and testing results for KNN across\n",
    "[1, max_neighbors]. Outputs the maximum test score and (by default) a\n",
    "visualization of the results.\n",
    "PARAMETERS\n",
    "----------\n",
    "x_data        : explanatory variable data\n",
    "y_data        : response variable\n",
    "standardize   : whether or not to standardize the x data, default True\n",
    "pct_test      : test size for training and validation from (0,1), default 0.25\n",
    "seed          : random seed to be used in algorithm, default 219\n",
    "response_type : type of neighbors algorithm to use, default 'reg'\n",
    "    Use 'reg' for regression (KNeighborsRegressor)\n",
    "    Use 'class' for classification (KNeighborsClassifier)\n",
    "max_neighbors : maximum number of neighbors in exhaustive search, default 20\n",
    "show_viz      : display or surpress k-neigbors visualization, default True\n",
    "\"\"\"    \n",
    "    \n",
    "    \n",
    "    if standardize == True:\n",
    "        # optionally standardizing x_data\n",
    "        scaler             = StandardScaler()\n",
    "        scaler.fit(x_data)\n",
    "        x_scaled           = scaler.transform(x_data)\n",
    "        x_scaled_df        = pd.DataFrame(x_scaled)\n",
    "        x_data             = x_scaled_df\n",
    "\n",
    "\n",
    "\n",
    "    # train-test split\n",
    "    x_train, x_test, y_train, y_test = train_test_split(x_data,\n",
    "                                                        y_data,\n",
    "                                                        test_size = pct_test,\n",
    "                                                        random_state = seed,\n",
    "                                                        stratify     = y_data)\n",
    "\n",
    "\n",
    "    # creating lists for training set accuracy and test set accuracy\n",
    "    training_accuracy = []\n",
    "    test_accuracy = []\n",
    "    \n",
    "    \n",
    "    # setting neighbor range\n",
    "    neighbors_settings = range(1, max_neighbors + 1)\n",
    "\n",
    "\n",
    "    for n_neighbors in neighbors_settings:\n",
    "        # building the model based on response variable type\n",
    "        if response_type == 'reg':\n",
    "            clf = KNeighborsRegressor(n_neighbors = n_neighbors)\n",
    "            clf.fit(x_train, y_train)\n",
    "            \n",
    "        elif response_type == 'class':\n",
    "            clf = KNeighborsClassifier(n_neighbors = n_neighbors)\n",
    "            clf.fit(x_train, y_train)            \n",
    "            \n",
    "        else:\n",
    "            print(\"Error: response_type must be 'reg' or 'class'\")\n",
    "        \n",
    "        \n",
    "        # recording the training set accuracy\n",
    "        training_accuracy.append(clf.score(x_train, y_train))\n",
    "    \n",
    "        # recording the generalization accuracy\n",
    "        test_accuracy.append(clf.score(x_test, y_test))\n",
    "\n",
    "\n",
    "    # optionally displaying visualization\n",
    "    if show_viz == True:\n",
    "        # plotting the visualization\n",
    "        fig, ax = plt.subplots(figsize=(12,8))\n",
    "        plt.plot(neighbors_settings, training_accuracy, label = \"training accuracy\")\n",
    "        plt.plot(neighbors_settings, test_accuracy, label = \"test accuracy\")\n",
    "        plt.ylabel(\"Accuracy\")\n",
    "        plt.xlabel(\"n_neighbors\")\n",
    "        plt.legend()\n",
    "        plt.show()\n",
    "    \n",
    "    \n",
    "    # returning optimal number of neighbors\n",
    "    print(f\"The optimal number of neighbors is: {test_accuracy.index(max(test_accuracy))+1}\")\n",
    "    return test_accuracy.index(max(test_accuracy))+1\n",
    "\n",
    "\n",
    "########################################\n",
    "# plot_feature_importances\n",
    "########################################\n",
    "def plot_feature_importances(model, train, export = False):\n",
    "    \"\"\"\n",
    "    Plots the importance of features from a CART model.\n",
    "    \n",
    "    PARAMETERS\n",
    "    ----------\n",
    "    model  : CART model\n",
    "    train  : explanatory variable training data\n",
    "    export : whether or not to export as a .png image, default False\n",
    "    \"\"\"\n",
    "    \n",
    "    # declaring the number\n",
    "    n_features = x_train.shape[1]\n",
    "    \n",
    "    # setting plot window\n",
    "    fig, ax = plt.subplots(figsize=(12,9))\n",
    "    \n",
    "    plt.barh(range(n_features), model.feature_importances_, align='center')\n",
    "    plt.yticks(np.arange(n_features), train.columns)\n",
    "    plt.xlabel(\"Feature importance\")\n",
    "    plt.ylabel(\"Feature\")\n",
    "    \n",
    "    if export == True:\n",
    "        plt.savefig('Tree_Leaf_50_Feature_Importance.png')\n",
    "\n",
    "\n",
    "#########################\n",
    "# mv_flagger\n",
    "#########################\n",
    "def mv_flagger(df):\n",
    "    \"\"\"\n",
    "Flags all columns that have missing values with 'm-COLUMN_NAME'.\n",
    "\n",
    "PARAMETERS\n",
    "----------\n",
    "df : DataFrame to flag missing values\n",
    "\n",
    "\n",
    "RETURNS\n",
    "-------\n",
    "DataFrame with missing value flags.\"\"\"\n",
    "\n",
    "\n",
    "    for col in df:\n",
    "\n",
    "        if df[col].isnull().astype(int).sum() > 0:\n",
    "            df['m_'+col] = df[col].isnull().astype(int)\n",
    "            \n",
    "    return df\n",
    "\n",
    "\n",
    "#########################\n",
    "# text_split_feature\n",
    "#########################\n",
    "def text_split_feature(col, df, sep=' ', new_col_name='number_of_names'):\n",
    "    \"\"\"\n",
    "Splits values in a string Series (as part of a DataFrame) and sums the number\n",
    "of resulting items. Automatically appends summed column to original DataFrame.\n",
    "\n",
    "PARAMETERS\n",
    "----------\n",
    "col          : column to split\n",
    "df           : DataFrame where column is located\n",
    "sep          : string sequence to split by, default ' '\n",
    "new_col_name : name of new column after summing split, default\n",
    "               'number_of_names'\n",
    "\"\"\"\n",
    "    \n",
    "    df[new_col_name] = 0\n",
    "    \n",
    "    \n",
    "    for index, val in df.iterrows():\n",
    "        df.loc[index, new_col_name] = len(df.loc[index, col].split(sep = ' '))\n",
    " "
   ]
  },
  {
   "cell_type": "markdown",
   "id": "a70196d6",
   "metadata": {},
   "source": [
    "# Missing Values"
   ]
  },
  {
   "cell_type": "code",
   "execution_count": 3,
   "id": "95280271",
   "metadata": {},
   "outputs": [],
   "source": [
    "# running the mv_flagger function to get missing values and potentially use them as a boolean\n",
    "got = mv_flagger(df = got)"
   ]
  },
  {
   "cell_type": "markdown",
   "id": "d457a05e",
   "metadata": {},
   "source": [
    "# Feature Engineering"
   ]
  },
  {
   "cell_type": "code",
   "execution_count": 4,
   "id": "4dbecd5c",
   "metadata": {},
   "outputs": [],
   "source": [
    "# Splitting popularity into three popular and unpopular, and neutral.\n",
    "\n",
    "# creating different popularity columns\n",
    "got['popular'] = 0\n",
    "got['unpopular'] = 0\n",
    "got['neutral'] = 0\n",
    "\n",
    "# replacing values based on condition\n",
    "for index, val in got.iterrows():\n",
    "\n",
    "    if got.loc[index, 'popularity'] > 0.5:\n",
    "        got.loc[index, 'popular'] = 1\n",
    "        \n",
    "    elif got.loc[index, 'popularity'] > 0:\n",
    "        got.loc[index, 'neutral'] = 1\n",
    "       \n",
    "    elif got.loc[index, 'popularity'] == 0:\n",
    "        got.loc[index, 'unpopular'] = 1"
   ]
  },
  {
   "cell_type": "markdown",
   "id": "6a7b5b64",
   "metadata": {},
   "source": [
    "### Year Calculation and New Features"
   ]
  },
  {
   "cell_type": "markdown",
   "id": "fd8ce8c7",
   "metadata": {},
   "source": [
    "No known Character has lived beyond 100 years. Setting anyone born more than 100 years ago in a separate columns.\n"
   ]
  },
  {
   "cell_type": "code",
   "execution_count": 5,
   "id": "707c4557",
   "metadata": {},
   "outputs": [],
   "source": [
    "# calculating year and oldest recorded person\n",
    "# std to remove any outliers in both directions, given a story will most\n",
    "# likely have people living \"now\" in their timeline using mode to set year\n",
    "yearstd = got.loc[ : , 'dateOfBirth'].std()\n",
    "yearstd = got.loc[ : , 'dateOfBirth'] < yearstd\n",
    "year = got[yearstd].loc[ : , 'dateOfBirth'] + got[yearstd].loc[ : , 'age']\n",
    "year = year.mode()[0]\n",
    "\n",
    "yearbefore = year - got['age'].max()\n",
    "yearbefore = int(yearbefore)\n",
    "\n",
    "# creating a born in a different era column based on birth year\n",
    "got[f'birth_before_{yearbefore}'] = 0\n",
    "\n",
    "# replacing values based on condition\n",
    "for index, val in got.iterrows():\n",
    "    if got.loc[index, 'dateOfBirth'] < yearbefore:\n",
    "        got.loc[index, f'birth_before_{yearbefore}'] = 1"
   ]
  },
  {
   "cell_type": "code",
   "execution_count": 6,
   "id": "15cb3ec7",
   "metadata": {},
   "outputs": [],
   "source": [
    "# creating different column based on if age + year of birth is lower than current year\n",
    "got['age_birth_year'] = 0\n",
    "\n",
    "# replacing values based on condition\n",
    "for index, val in got.iterrows():\n",
    "    if got.loc[index, 'dateOfBirth'] + got.loc[index, 'age'] < year:\n",
    "        got.loc[index, 'age_birth_year'] = 1"
   ]
  },
  {
   "cell_type": "code",
   "execution_count": 7,
   "id": "6b770f82",
   "metadata": {},
   "outputs": [],
   "source": [
    "# creating different column based on birth year is equal or greater than current\n",
    "# to see if still alive based on age\n",
    "got['age_equal_year'] = 0\n",
    "\n",
    "# replacing values based on condition\n",
    "for index, val in got.iterrows():\n",
    "    if got.loc[index, 'dateOfBirth'] + got.loc[index, 'age'] >= year:\n",
    "        got.loc[index, 'age_equal_year'] = 1"
   ]
  },
  {
   "cell_type": "code",
   "execution_count": 8,
   "id": "16d572d5",
   "metadata": {},
   "outputs": [],
   "source": [
    "# splitting name and creating count of nr of names using user defined function\n",
    "text_split_feature('name', got, sep=' ', new_col_name='nr_names')"
   ]
  },
  {
   "cell_type": "code",
   "execution_count": 9,
   "id": "3be3753b",
   "metadata": {},
   "outputs": [],
   "source": [
    "# Creating count of how many times in book\n",
    "got['nr_books'] = got['book1_A_Game_Of_Thrones'] +\\\n",
    "got['book2_A_Clash_Of_Kings'] +\\\n",
    "got['book3_A_Storm_Of_Swords'] +\\\n",
    "got['book4_A_Feast_For_Crows'] +\\\n",
    "got['book5_A_Dance_with_Dragons']\n",
    "\n",
    "got['referenced'] = 0\n",
    "\n",
    "# looping to to create boolean of if the person is in book or referenced\n",
    "for index, val in got.iterrows():\n",
    "     \n",
    "    if got.loc[ index , 'nr_books'] == 0:\n",
    "        got.loc[index, 'referenced'] = 1\n"
   ]
  },
  {
   "cell_type": "code",
   "execution_count": 10,
   "id": "3b0c92d4",
   "metadata": {},
   "outputs": [],
   "source": [
    "# two in a row then not in book\n",
    "got['two_then_not'] = 0\n",
    "\n",
    "for index, val in got.iterrows():\n",
    "    \n",
    "    # setting two then not in next book\n",
    "    if got.loc[ index , 'book1_A_Game_Of_Thrones'] == 1\\\n",
    "    and got.loc[ index , 'book2_A_Clash_Of_Kings'] == 1\\\n",
    "    and got.loc[ index , 'book3_A_Storm_Of_Swords'] == 0:\n",
    "        got.loc[index, 'two_then_not'] = 1\n",
    "        \n",
    "    if got.loc[ index , 'book2_A_Clash_Of_Kings'] == 1\\\n",
    "    and got.loc[ index , 'book3_A_Storm_Of_Swords'] == 1\\\n",
    "    and got.loc[ index , 'book4_A_Feast_For_Crows'] == 0:\n",
    "        got.loc[index, 'two_then_not'] = 1\n",
    "        \n",
    "    if got.loc[ index , 'book3_A_Storm_Of_Swords'] == 1\\\n",
    "    and got.loc[ index , 'book4_A_Feast_For_Crows'] == 1\\\n",
    "    and got.loc[ index , 'book5_A_Dance_with_Dragons'] == 0:\n",
    "        got.loc[index, 'two_then_not'] = 1\n",
    "        \n"
   ]
  },
  {
   "cell_type": "code",
   "execution_count": 11,
   "id": "732045bd",
   "metadata": {},
   "outputs": [],
   "source": [
    "# creating a boolean of only in book five\n",
    "got['only_book5'] = 0\n",
    "\n",
    "for index, val in got.iterrows():\n",
    "    \n",
    "    # checking for Miss.\n",
    "    if got.loc[ index , 'book5_A_Dance_with_Dragons'] == 1\\\n",
    "    and got.loc[ index , 'nr_books'] == 1:\n",
    "        got.loc[index, 'only_book5'] = 1"
   ]
  },
  {
   "cell_type": "code",
   "execution_count": 12,
   "id": "e986db9e",
   "metadata": {},
   "outputs": [],
   "source": [
    "# creating boolean for people only in last book\n",
    "got['not_in_last'] = 0\n",
    "\n",
    "for index, val in got.iterrows():\n",
    "    \n",
    "    # checking for Miss.\n",
    "    if got.loc[ index , 'nr_books'] >= 3\\\n",
    "    and got.loc[ index , 'book5_A_Dance_with_Dragons'] == 0:\n",
    "        got.loc[index, 'not_in_last'] = 1"
   ]
  },
  {
   "cell_type": "code",
   "execution_count": null,
   "id": "3e995e85",
   "metadata": {},
   "outputs": [],
   "source": []
  },
  {
   "cell_type": "markdown",
   "id": "6f729154",
   "metadata": {},
   "source": [
    "## Gender Guesser"
   ]
  },
  {
   "cell_type": "markdown",
   "id": "b50c0f28",
   "metadata": {},
   "source": [
    "Gender guesser could not be used within time limit, an option would have been <br>\n",
    "to only use it on a few given an if statement. Or to export to excel and include <br>\n",
    "with submission."
   ]
  },
  {
   "cell_type": "code",
   "execution_count": 13,
   "id": "4a4515ad",
   "metadata": {},
   "outputs": [],
   "source": [
    "# # placeholder list\n",
    "# placeholder_lst = []\n",
    "\n",
    "# # looping over each name\n",
    "# for index, col in got.iterrows():\n",
    "    \n",
    "#     # splitting each name\n",
    "#     name_split = got.loc[index, 'name'].split()\n",
    "    \n",
    "#     # appending placeholder_lst with the results\n",
    "#     placeholder_lst.append(name_split)\n",
    "    \n",
    "\n",
    "# # converting placeholder_lst into a DataFrame \n",
    "# name_split = pd.DataFrame(placeholder_lst)\n",
    "\n",
    "# # renaming column to concatenate\n",
    "# name_split.columns = ['first_name', 'name2', 'name3', 'name4', 'name5', 'name6']\n",
    "\n",
    "# # concatenating first name with got\n",
    "# got = pd.concat([got, name_split['first_name']],\n",
    "#                    axis = 1)"
   ]
  },
  {
   "cell_type": "code",
   "execution_count": 14,
   "id": "dc4d46c3",
   "metadata": {},
   "outputs": [],
   "source": [
    "# # guessing gender based on (given) name\n",
    "\n",
    "# # placeholder list\n",
    "# placeholder_lst = []\n",
    "\n",
    "# # looping to guess gender\n",
    "# for name in got['first_name']:\n",
    "#     guess = gender.Detector().get_gender(name)\n",
    "#     print(guess)\n",
    "#     placeholder_lst.append(guess)\n",
    "\n",
    "# # converting list into a series\n",
    "# got['gender_guess'] = pd.Series(placeholder_lst)\n"
   ]
  },
  {
   "cell_type": "markdown",
   "id": "b1702c44",
   "metadata": {},
   "source": [
    "### Dummies one hot adding"
   ]
  },
  {
   "cell_type": "code",
   "execution_count": 15,
   "id": "2b970868",
   "metadata": {},
   "outputs": [],
   "source": [
    "# # one hot encoding variables\n",
    "# one_hot_gender_guess       = pd.get_dummies(got['gender_guess'])\n",
    "\n",
    "# # joining codings together\n",
    "# got = got.join(other = [one_hot_gender_guess])\n",
    "\n",
    "# # dropping categorical variables after they've been encoded\n",
    "# got = got.drop(['female', 'male', 'mostly_female', 'mostly_male', 'andy',\n",
    "#                 'gender_guess', 'first_name'], axis = 1)"
   ]
  },
  {
   "cell_type": "markdown",
   "id": "963f30d8",
   "metadata": {},
   "source": [
    "# logistic regression"
   ]
  },
  {
   "cell_type": "markdown",
   "id": "1c5523bd",
   "metadata": {},
   "source": [
    "Testing area for features."
   ]
  },
  {
   "cell_type": "code",
   "execution_count": 16,
   "id": "740c3d15",
   "metadata": {},
   "outputs": [],
   "source": [
    "# # declaring explanatory variables\n",
    "# got_data = got.drop(['isAlive'],\n",
    "#                              axis = 1)\n",
    "\n",
    "# # declaring response variable\n",
    "# got_target = got.loc[ : ,'isAlive']\n",
    "\n",
    "# # train-test split with stratification\n",
    "# x_train, x_test, y_train, y_test = train_test_split(\n",
    "#             got_data,\n",
    "#             got_target,\n",
    "#             test_size    = 0.10,\n",
    "#             random_state = 219,\n",
    "#             stratify     = got_target) # preserving balance\n",
    "\n",
    "# # merging training data for statsmodels\n",
    "# got_train = pd.concat([x_train, y_train], axis = 1)"
   ]
  },
  {
   "cell_type": "code",
   "execution_count": 17,
   "id": "77858ea0",
   "metadata": {},
   "outputs": [],
   "source": [
    "# # creating a (Pearson) correlation matrix\n",
    "# df_corr = got.corr().round(2)\n",
    "\n",
    "# # printing (Pearson) correlations with isAlive\n",
    "# print(df_corr.loc['isAlive'].sort_values(ascending = False))"
   ]
  },
  {
   "cell_type": "code",
   "execution_count": 18,
   "id": "ad72a55b",
   "metadata": {},
   "outputs": [],
   "source": [
    "# for val in got:\n",
    "#     print(f\"{val} + \")"
   ]
  },
  {
   "cell_type": "code",
   "execution_count": 19,
   "id": "40855755",
   "metadata": {},
   "outputs": [],
   "source": [
    "# # instantiating a logistic regression model object\n",
    "# logistic_full = smf.logit(formula = \"\"\" isAlive ~ \n",
    "# nr_books + \n",
    "# popularity + \n",
    "# age_birth_year\n",
    "# \"\"\",\n",
    "# data    = got)\n",
    "\n",
    "\n",
    "# # fitting the model object\n",
    "# results_full = logistic_full.fit(maxiter = 1000)\n",
    "\n",
    "\n",
    "# # checking the results SUMMARY\n",
    "# results_full.summary2()"
   ]
  },
  {
   "cell_type": "markdown",
   "id": "0d9bc121",
   "metadata": {},
   "source": [
    "# Final Data"
   ]
  },
  {
   "cell_type": "code",
   "execution_count": 20,
   "id": "0565f284",
   "metadata": {},
   "outputs": [],
   "source": [
    "variables = [\n",
    "'not_in_last',\n",
    "'book1_A_Game_Of_Thrones',\n",
    "'book2_A_Clash_Of_Kings',\n",
    "'book4_A_Feast_For_Crows',\n",
    "'age_birth_year',\n",
    "'age_equal_year',\n",
    "'popularity',\n",
    "'only_book5',\n",
    "'two_then_not'\n",
    "]\n"
   ]
  },
  {
   "cell_type": "code",
   "execution_count": 21,
   "id": "705c4fde",
   "metadata": {},
   "outputs": [],
   "source": [
    "# train/test split with the full model\n",
    "got_data   =  got.loc[: , variables]\n",
    "got_target =  got.loc[ : , 'isAlive']\n",
    "\n",
    "# This is the exact code we were using before\n",
    "x_train, x_test, y_train, y_test = train_test_split(\n",
    "            got_data,\n",
    "            got_target,\n",
    "            test_size    = 0.10,\n",
    "            random_state = 219,\n",
    "            stratify     = got_target)"
   ]
  },
  {
   "cell_type": "markdown",
   "id": "81739dcf",
   "metadata": {},
   "source": [
    "## Hyperparameter Tuning Notes"
   ]
  },
  {
   "cell_type": "markdown",
   "id": "49dacc5e",
   "metadata": {},
   "source": [
    "The tuning array were chosen based on the largest impact i could see with the <br>\n",
    "least fine tuning. Mostly using the different named options, with some <br>\n",
    "exceptions. The required criterion was included."
   ]
  },
  {
   "cell_type": "markdown",
   "id": "90f08180",
   "metadata": {},
   "source": [
    "# Logistic Regression"
   ]
  },
  {
   "cell_type": "markdown",
   "id": "71b0d25b",
   "metadata": {},
   "source": [
    "## Hyperparameter Tuning"
   ]
  },
  {
   "cell_type": "code",
   "execution_count": 22,
   "id": "8d76c572",
   "metadata": {},
   "outputs": [],
   "source": [
    "# # declaring a hyperparameter space\n",
    "# class_weight = ['balanced', 'dict', 'None'] # Keeping to the simplest fewest variables to effectivize.\n",
    "# solver_range = ['newton-cg', 'sag', 'lbfgs', 'saga'] # Keeping to the simplest fewest variables to effectivize.\n",
    "\n",
    "\n",
    "# # creating a hyperparameter grid\n",
    "# param_grid = {'class_weight' : class_weight,\n",
    "#               'solver'     : solver_range}\n",
    "\n",
    "\n",
    "# # INSTANTIATING the model object without hyperparameters\n",
    "# lr_tuned = LogisticRegression(random_state = 219,\n",
    "#                               max_iter     = 100) # increased for convergence\n",
    "\n",
    "\n",
    "# # GridSearchCV object\n",
    "# lr_tuned_cv = RandomizedSearchCV(estimator           = lr_tuned,   # the model object\n",
    "#                                  param_distributions = param_grid, # parameters to tune\n",
    "#                                  cv                  = 3,          # how many folds in cross-validation\n",
    "#                                  n_iter              = 12,        # number of combinations of hyperparameters to try\n",
    "#                                  random_state        = 219,        # starting point for random sequence\n",
    "#                                  scoring = make_scorer(\n",
    "#                                            roc_auc_score,\n",
    "#                                            needs_threshold = False)) # scoring criteria (AUC)\n",
    "\n",
    "\n",
    "# # FITTING to the FULL DATASET (due to cross-validation)\n",
    "# lr_tuned_cv.fit(got_data, got_target)\n",
    "\n",
    "\n",
    "# # printing the optimal parameters and best score\n",
    "# print(\"Tuned Parameters  :\", lr_tuned_cv.best_params_)\n",
    "# print(\"Tuned CV AUC      :\", lr_tuned_cv.best_score_.round(4))"
   ]
  },
  {
   "cell_type": "markdown",
   "id": "7482b89f",
   "metadata": {},
   "source": [
    "## Logistic Regression"
   ]
  },
  {
   "cell_type": "code",
   "execution_count": 23,
   "id": "79ee4671",
   "metadata": {},
   "outputs": [
    {
     "name": "stdout",
     "output_type": "stream",
     "text": [
      "Training ACCURACY: 0.7236\n",
      "Testing  ACCURACY: 0.7846\n",
      "AUC Score        : 0.8159\n",
      "\n",
      "True Negatives : 44\n",
      "False Positives: 6\n",
      "False Negatives: 36\n",
      "True Positives : 109\n",
      "\n"
     ]
    }
   ],
   "source": [
    "\n",
    "# INSTANTIATING a logistic regression model\n",
    "logreg = LogisticRegression(solver = 'newton-cg',\n",
    "                            class_weight = 'balanced',\n",
    "                            random_state = 219)\n",
    "\n",
    "\n",
    "# FITTING to the train dataset(could use full, due to tuning)\n",
    "logreg_fit = logreg.fit(x_train, y_train)\n",
    "\n",
    "\n",
    "# PREDICTING based on the testing set\n",
    "logreg_pred = logreg_fit.predict(x_test)\n",
    "\n",
    "\n",
    "# SCORING the results\n",
    "print('Training ACCURACY:', logreg_fit.score(x_train, y_train).round(4))\n",
    "print('Testing  ACCURACY:', logreg_fit.score(x_test, y_test).round(4))\n",
    "print('AUC Score        :', roc_auc_score(y_true  = y_test,\n",
    "                    y_score = logreg_pred).round(decimals = 4))\n",
    "\n",
    "# saving scoring data for future use\n",
    "logreg_train_score = logreg_fit.score(x_train, y_train).round(4) # accuracy\n",
    "logreg_test_score  = logreg_fit.score(x_test, y_test).round(4) # accuracy\n",
    "logreg_auc_score = roc_auc_score(y_true  = y_test,\n",
    "                                 y_score = logreg_pred).round(decimals = 4)\n",
    "\n",
    "# unpacking the confusion matrix\n",
    "logreg_tn, \\\n",
    "logreg_fp, \\\n",
    "logreg_fn, \\\n",
    "logreg_tp = confusion_matrix(y_true = y_test, y_pred = logreg_pred).ravel()\n",
    "\n",
    "\n",
    "# printing each result one-by-one\n",
    "print(f\"\"\"\n",
    "True Negatives : {logreg_tn}\n",
    "False Positives: {logreg_fp}\n",
    "False Negatives: {logreg_fn}\n",
    "True Positives : {logreg_tp}\n",
    "\"\"\")\n"
   ]
  },
  {
   "cell_type": "markdown",
   "id": "51607618",
   "metadata": {},
   "source": [
    "## Coefficients"
   ]
  },
  {
   "cell_type": "code",
   "execution_count": 24,
   "id": "e2ec939b",
   "metadata": {},
   "outputs": [
    {
     "name": "stdout",
     "output_type": "stream",
     "text": [
      "('intercept', -0.0)\n",
      "('not_in_last', -0.46)\n",
      "('book1_A_Game_Of_Thrones', -0.48)\n",
      "('book2_A_Clash_Of_Kings', -0.4)\n",
      "('book4_A_Feast_For_Crows', 1.34)\n",
      "('age_birth_year', -4.15)\n",
      "('age_equal_year', 3.94)\n",
      "('popularity', -2.62)\n",
      "('only_book5', 0.65)\n",
      "('two_then_not', -0.22)\n"
     ]
    }
   ],
   "source": [
    "# zipping each feature name to its coefficient\n",
    "logreg_model_values = zip(got_data.columns,\n",
    "                          logreg_fit.coef_.ravel().round(decimals = 2))\n",
    "\n",
    "# setting up a placeholder list to store model features\n",
    "logreg_model_lst = [('intercept', logreg_fit.intercept_[0].round(decimals = 2))]\n",
    "\n",
    "# printing out each feature-coefficient pair one by one\n",
    "for val in logreg_model_values:\n",
    "    logreg_model_lst.append(val)\n",
    "    \n",
    "# checking the results\n",
    "for pair in logreg_model_lst:\n",
    "    print(pair)\n"
   ]
  },
  {
   "cell_type": "markdown",
   "id": "2a01b181",
   "metadata": {},
   "source": [
    "# Classification Trees (CART Models)"
   ]
  },
  {
   "cell_type": "markdown",
   "id": "bc411cb6",
   "metadata": {},
   "source": [
    "## Hyperparameter Tuning"
   ]
  },
  {
   "cell_type": "code",
   "execution_count": 25,
   "id": "6f2406b6",
   "metadata": {},
   "outputs": [],
   "source": [
    "# # declaring a hyperparameter space\n",
    "# criterion = ['gini', 'entropy']\n",
    "# splitter  = ['best', 'random']\n",
    "# max_depth = np.arange(2, 8)\n",
    "\n",
    "\n",
    "# # creating a hyperparameter grid\n",
    "# param_grid = {'criterion' : criterion,\n",
    "#               'splitter'  : splitter,\n",
    "#               'max_depth' : max_depth,}\n",
    "\n",
    "\n",
    "# # INSTANTIATING the model object without hyperparameters\n",
    "# tuned_tree = DecisionTreeClassifier(random_state = 219)\n",
    "\n",
    "\n",
    "# # RandomizedSearchCV object\n",
    "# tuned_tree_cv = RandomizedSearchCV(estimator             = tuned_tree,\n",
    "#                                    param_distributions   = param_grid,\n",
    "#                                    cv                    = 3,\n",
    "#                                    n_iter                = 24,\n",
    "#                                    random_state          = 219,\n",
    "#                                    scoring = make_scorer(roc_auc_score,\n",
    "#                                              needs_threshold = False))\n",
    "\n",
    "\n",
    "# # FITTING to the FULL DATASET (due to cross-validation)\n",
    "# tuned_tree_cv.fit(got_data, got_target)\n",
    "\n",
    "# # printing the optimal parameters and best score\n",
    "# print(\"Tuned Parameters  :\", tuned_tree_cv.best_params_)\n",
    "# print(\"Tuned Training AUC:\", tuned_tree_cv.best_score_.round(4))"
   ]
  },
  {
   "cell_type": "markdown",
   "id": "e782e588",
   "metadata": {},
   "source": [
    "## Classification Trees (CART Models)"
   ]
  },
  {
   "cell_type": "code",
   "execution_count": 26,
   "id": "0a953a9c",
   "metadata": {},
   "outputs": [
    {
     "name": "stdout",
     "output_type": "stream",
     "text": [
      "Training ACCURACY: 0.8521\n",
      "Testing  ACCURACY: 0.9128\n",
      "AUC Score        : 0.8366\n",
      "\n",
      "True Negatives : 34\n",
      "False Positives: 16\n",
      "False Negatives: 1\n",
      "True Positives : 144\n",
      "\n"
     ]
    }
   ],
   "source": [
    "# INSTANTIATING a classification tree object\n",
    "tree_pruned = DecisionTreeClassifier(max_depth = 7,\n",
    "                                     min_samples_leaf = 30, # to keep enough samples in each\n",
    "                                     random_state = 219,\n",
    "                                     splitter = 'best',\n",
    "                                     criterion = 'entropy')\n",
    "\n",
    "\n",
    "# FITTING to the train dataset(could use full, due to tuning)\n",
    "tree_pruned_fit = tree_pruned.fit(x_train, y_train)\n",
    "\n",
    "\n",
    "# PREDICTING on new data\n",
    "tree_pruned_pred = tree_pruned_fit.predict(x_test)\n",
    "\n",
    "\n",
    "# SCORING the model\n",
    "print('Training ACCURACY:', tree_pruned_fit.score(x_train, y_train).round(4))\n",
    "print('Testing  ACCURACY:', tree_pruned_fit.score(x_test, y_test).round(4))\n",
    "print('AUC Score        :', roc_auc_score(y_true  = y_test,\n",
    "                                          y_score = tree_pruned_pred).round(4))\n",
    "\n",
    "\n",
    "# saving scoring data for future use\n",
    "pruned_tree_train_score = tree_pruned_fit.score(x_train, y_train).round(4) # accuracy\n",
    "pruned_tree_test_score  = tree_pruned_fit.score(x_test, y_test).round(4) # accuracy\n",
    "\n",
    "\n",
    "# saving auc score\n",
    "pruned_tree_auc_score   = roc_auc_score(y_true  = y_test,\n",
    "                                        y_score = tree_pruned_pred).round(4)\n",
    "\n",
    "\n",
    "# unpacking the confusion matrix\n",
    "pruned_tree_tn, \\\n",
    "pruned_tree_fp, \\\n",
    "pruned_tree_fn, \\\n",
    "pruned_tree_tp = confusion_matrix(y_true = y_test, y_pred = tree_pruned_pred).ravel()\n",
    "\n",
    "\n",
    "# printing each result one-by-one\n",
    "print(f\"\"\"\n",
    "True Negatives : {pruned_tree_tn}\n",
    "False Positives: {pruned_tree_fp}\n",
    "False Negatives: {pruned_tree_fn}\n",
    "True Positives : {pruned_tree_tp}\n",
    "\"\"\")\n",
    "\n"
   ]
  },
  {
   "cell_type": "code",
   "execution_count": 27,
   "id": "5377a16f",
   "metadata": {},
   "outputs": [
    {
     "data": {
      "image/png": "[encoded data removed]",
      "text/plain": [
       "<Figure size 864x648 with 1 Axes>"
      ]
     },
     "metadata": {
      "needs_background": "light"
     },
     "output_type": "display_data"
    }
   ],
   "source": [
    "# plotting feature importance\n",
    "plot_feature_importances(tree_pruned_fit,\n",
    "                         train = x_train,\n",
    "                         export = False)"
   ]
  },
  {
   "cell_type": "code",
   "execution_count": null,
   "id": "ddd5d8ee",
   "metadata": {},
   "outputs": [],
   "source": []
  },
  {
   "cell_type": "markdown",
   "id": "067c78c1",
   "metadata": {},
   "source": [
    "# KNN"
   ]
  },
  {
   "cell_type": "markdown",
   "id": "48278b8c",
   "metadata": {},
   "source": [
    "## Standard Scaler"
   ]
  },
  {
   "cell_type": "code",
   "execution_count": 28,
   "id": "e5bc2748",
   "metadata": {},
   "outputs": [],
   "source": [
    "# INSTANTIATING StandardScaler()\n",
    "scaler = StandardScaler()\n",
    "\n",
    "\n",
    "# FITTING the data\n",
    "scaler.fit(got_data)\n",
    "\n",
    "\n",
    "# TRANSFORMING the data\n",
    "x_scaled     = scaler.transform(got_data)\n",
    "\n",
    "\n",
    "# converting to a DataFrame\n",
    "x_scaled_df  = pd.DataFrame(x_scaled) \n",
    "\n",
    "\n",
    "# train-test split with the scaled data\n",
    "x_train_scaled, x_test_scaled, y_train_scaled, y_test_scaled = train_test_split(\n",
    "            x_scaled_df,\n",
    "            got_target,\n",
    "            random_state = 219,\n",
    "            test_size    = 0.10,\n",
    "            stratify     = got_target)"
   ]
  },
  {
   "cell_type": "markdown",
   "id": "a6aca22d",
   "metadata": {},
   "source": [
    "## Hyperparameter Tuning "
   ]
  },
  {
   "cell_type": "code",
   "execution_count": 29,
   "id": "4992f1f3",
   "metadata": {},
   "outputs": [],
   "source": [
    "# # determining the optimal number of neighbors\n",
    "# opt_neighbors = optimal_neighbors(x_data        = x_scaled_df,\n",
    "#                                   y_data        = got_target,\n",
    "#                                   response_type = 'class')\n"
   ]
  },
  {
   "cell_type": "code",
   "execution_count": 30,
   "id": "4d18a9cd",
   "metadata": {},
   "outputs": [],
   "source": [
    "# # declaring a hyperparameter space\n",
    "# n_neighbors = [opt_neighbors]\n",
    "# weights  = ['uniform', 'distance']\n",
    "# algorithm      = ['auto', 'ball_tree', 'ball_tree', 'kd_tree', 'brute']\n",
    "# leaf_size       = np.arange(10, 100)\n",
    "# metric    = ['minkowski', 'euclidean', 'manhattan']\n",
    "\n",
    "# # creating a hyperparameter grid\n",
    "# param_grid = {'n_neighbors' : n_neighbors,\n",
    "#               'weights'         : weights,\n",
    "#               'algorithm'        : algorithm,\n",
    "#               'leaf_size' : leaf_size,\n",
    "#               'metric'     : metric}\n",
    "\n",
    "\n",
    "# # INSTANTIATING the model object without hyperparameters\n",
    "# tuned_knn = KNeighborsClassifier(n_neighbors = opt_neighbors)\n",
    "\n",
    "\n",
    "# # RandomizedSearchCV object\n",
    "# tuned_knn_cv = RandomizedSearchCV(estimator             = tuned_knn,\n",
    "#                                    param_distributions   = param_grid,\n",
    "#                                    cv                    = 3,\n",
    "#                                    n_iter                = 1000,\n",
    "#                                    random_state          = 219,\n",
    "#                                    scoring = make_scorer(roc_auc_score,\n",
    "#                                              needs_threshold = False))\n",
    "\n",
    "\n",
    "# # FITTING to the FULL DATASET (due to cross-validation)\n",
    "# tuned_knn_cv.fit(got_data, got_target)\n",
    "\n",
    "# # printing the optimal parameters and best score\n",
    "# print(\"Tuned Parameters  :\", tuned_knn_cv.best_params_)\n",
    "# print(\"Tuned Training AUC:\", tuned_knn_cv.best_score_.round(4))"
   ]
  },
  {
   "cell_type": "markdown",
   "id": "f8d3a569",
   "metadata": {},
   "source": [
    "## KNN"
   ]
  },
  {
   "cell_type": "code",
   "execution_count": 31,
   "id": "6433201d",
   "metadata": {},
   "outputs": [
    {
     "name": "stdout",
     "output_type": "stream",
     "text": [
      "Training ACCURACY: 0.8995\n",
      "Testing  ACCURACY: 0.8615\n",
      "AUC Score        : 0.8414\n",
      "\n",
      "True Negatives : 40\n",
      "False Positives: 10\n",
      "False Negatives: 17\n",
      "True Positives : 128\n",
      "\n"
     ]
    }
   ],
   "source": [
    "\n",
    "# INSTANTIATING a KNN classification model with optimal neighbors\n",
    "knn_opt = KNeighborsClassifier(n_neighbors = 14,\n",
    "                               weights = 'distance',\n",
    "                               metric = 'euclidean',\n",
    "                               leaf_size = 76,\n",
    "                               algorithm = 'brute')\n",
    "\n",
    "# FITTING to the train dataset(could use full, due to tuning)\n",
    "knn_fit = knn_opt.fit(x_train_scaled, y_train_scaled)\n",
    "\n",
    "# PREDICTING based on the testing set\n",
    "knn_pred = knn_fit.predict(x_test_scaled)\n",
    "\n",
    "# SCORING the results\n",
    "print('Training ACCURACY:', knn_fit.score(x_train_scaled, y_train_scaled).round(4))\n",
    "print('Testing  ACCURACY:', knn_fit.score(x_test_scaled, y_test_scaled).round(4))\n",
    "print('AUC Score        :', roc_auc_score(y_true  = y_test_scaled,\n",
    "                                          y_score = knn_pred).round(4))\n",
    "\n",
    "\n",
    "# saving scoring data\n",
    "knn_train_score = knn_fit.score(x_train_scaled, y_train_scaled).round(4)\n",
    "knn_test_score  = knn_fit.score(x_test_scaled, y_test_scaled).round(4)\n",
    "\n",
    "\n",
    "# saving AUC score\n",
    "knn_auc_score   = roc_auc_score(y_true  = y_test_scaled,\n",
    "                                          y_score = knn_pred).round(4)\n",
    "\n",
    "# unpacking the confusion matrix\n",
    "knn_tn, \\\n",
    "knn_fp, \\\n",
    "knn_fn, \\\n",
    "knn_tp = confusion_matrix(y_true = y_test_scaled, y_pred = knn_pred).ravel()\n",
    "\n",
    "\n",
    "# printing each result one-by-one\n",
    "print(f\"\"\"\n",
    "True Negatives : {knn_tn}\n",
    "False Positives: {knn_fp}\n",
    "False Negatives: {knn_fn}\n",
    "True Positives : {knn_tp}\n",
    "\"\"\")\n",
    "\n"
   ]
  },
  {
   "cell_type": "markdown",
   "id": "f779826e",
   "metadata": {},
   "source": [
    "# Random Forest"
   ]
  },
  {
   "cell_type": "markdown",
   "id": "145870ae",
   "metadata": {},
   "source": [
    "## Hyper Tuning "
   ]
  },
  {
   "cell_type": "code",
   "execution_count": 32,
   "id": "3d66c54f",
   "metadata": {},
   "outputs": [],
   "source": [
    "# # INSTANTIATING a random forest model with default values\n",
    "# rf_default = RandomForestClassifier(n_estimators     = 100,\n",
    "#                                     criterion        = 'gini',\n",
    "#                                     max_depth        = 4,\n",
    "#                                     min_samples_leaf = 1,\n",
    "#                                     bootstrap        = True,\n",
    "#                                     warm_start       = False,\n",
    "#                                     random_state     = 219)\n",
    "\n",
    "# # FITTING the training data\n",
    "# rf_default_fit = rf_default.fit(x_train, y_train)\n",
    "\n",
    "\n",
    "# # PREDICTING based on the testing set\n",
    "# rf_default_fit_pred = rf_default_fit.predict(x_test)\n",
    "\n",
    "\n",
    "# # declaring a hyperparameter space\n",
    "# criterion = ['gini', 'entropy']\n",
    "# max_depth = np.arange(2, 8)\n",
    "# n_estimators = np.arange(10, 500, 10)\n",
    "\n",
    "# # creating a hyperparameter grid\n",
    "# param_grid = {'criterion'     : criterion,\n",
    "#               'max_depth'        : max_depth,\n",
    "#               'n_estimators' : n_estimators}\n",
    "\n",
    "# # INSTANTIATING the model object without hyperparameters\n",
    "# forest_grid = RandomForestClassifier(random_state = 219)\n",
    "\n",
    "# # GridSearchCV object\n",
    "# forest_cv = RandomizedSearchCV(estimator           = forest_grid,\n",
    "#                                param_distributions = param_grid,\n",
    "#                                cv         = 3,\n",
    "#                                n_iter     = 558,\n",
    "#                                scoring    = make_scorer(roc_auc_score,\n",
    "#                                             needs_threshold = False))\n",
    "\n",
    "\n",
    "# # FITTING to the FULL DATASET (due to cross-validation)\n",
    "# forest_cv.fit(got_data, got_target)\n",
    "\n",
    "\n",
    "# # printing the optimal parameters and best score\n",
    "# print(\"Tuned Parameters  :\", forest_cv.best_params_)\n",
    "# print(\"Tuned Training AUC:\", forest_cv.best_score_.round(4))"
   ]
  },
  {
   "cell_type": "markdown",
   "id": "363c6f05",
   "metadata": {},
   "source": [
    "## Random Forrest"
   ]
  },
  {
   "cell_type": "code",
   "execution_count": 33,
   "id": "fe57ab51",
   "metadata": {},
   "outputs": [
    {
     "name": "stdout",
     "output_type": "stream",
     "text": [
      "Forest Tuned Training ACCURACY: 0.8652\n",
      "Forest Tuned Testing  ACCURACY: 0.9026\n",
      "Forest Tuned AUC Score        : 0.8362\n",
      "\n",
      "True Negatives : 35\n",
      "False Positives: 15\n",
      "False Negatives: 4\n",
      "True Positives : 141\n",
      "\n"
     ]
    },
    {
     "data": {
      "image/png": "[encoded data removed]",
      "text/plain": [
       "<Figure size 864x648 with 1 Axes>"
      ]
     },
     "metadata": {
      "needs_background": "light"
     },
     "output_type": "display_data"
    }
   ],
   "source": [
    "# building a model based on hyperparameter tuning results\n",
    "\n",
    "# INSTANTIATING with best_estimator\n",
    "forest_tuned = RandomForestClassifier(criterion='gini', \n",
    "                                      n_estimators=70, \n",
    "                                      random_state=219, \n",
    "                                      max_depth = 7)\n",
    "\n",
    "\n",
    "# FITTING to the train dataset(could use full, due to tuning)\n",
    "forest_tuned_fit = forest_tuned.fit(x_train, y_train)\n",
    "\n",
    "\n",
    "# PREDICTING based on the testing set\n",
    "forest_tuned_pred = forest_tuned_fit.predict(x_test)\n",
    "\n",
    "\n",
    "# SCORING the results\n",
    "print('Forest Tuned Training ACCURACY:', forest_tuned.score(x_train, y_train).round(4))\n",
    "print('Forest Tuned Testing  ACCURACY:', forest_tuned.score(x_test, y_test).round(4))\n",
    "print('Forest Tuned AUC Score        :', roc_auc_score(y_true  = y_test,\n",
    "                                                       y_score = forest_tuned_pred).round(4))\n",
    "\n",
    "\n",
    "# saving scoring data for future use\n",
    "forest_tuned_train_score = forest_tuned.score(x_train, y_train).round(4) # accuracy\n",
    "forest_tuned_test_score  = forest_tuned.score(x_test, y_test).round(4)   # accuracy\n",
    "\n",
    "\n",
    "# saving the AUC score\n",
    "forest_tuned_auc = roc_auc_score(y_true  = y_test,\n",
    "                                 y_score = forest_tuned_pred).round(4) # auc\n",
    "\n",
    "# plotting feature importances\n",
    "plot_feature_importances(forest_tuned_fit,\n",
    "                         train = x_train,\n",
    "                         export = False)\n",
    "\n",
    "# unpacking the confusion matrix\n",
    "tuned_rf_tn, \\\n",
    "tuned_rf_fp, \\\n",
    "tuned_rf_fn, \\\n",
    "tuned_rf_tp = confusion_matrix(y_true = y_test, y_pred = forest_tuned_pred).ravel()\n",
    "\n",
    "\n",
    "# printing each result one-by-one\n",
    "print(f\"\"\"\n",
    "True Negatives : {tuned_rf_tn}\n",
    "False Positives: {tuned_rf_fp}\n",
    "False Negatives: {tuned_rf_fn}\n",
    "True Positives : {tuned_rf_tp}\n",
    "\"\"\")"
   ]
  },
  {
   "cell_type": "markdown",
   "id": "e5ec4669",
   "metadata": {},
   "source": [
    "# Gradient Boosted Machines"
   ]
  },
  {
   "cell_type": "markdown",
   "id": "ab52151f",
   "metadata": {},
   "source": [
    "## Hyper Tuning"
   ]
  },
  {
   "cell_type": "code",
   "execution_count": 34,
   "id": "1abb8ab1",
   "metadata": {},
   "outputs": [],
   "source": [
    "# # declaring a hyperparameter space\n",
    "# learning_rate        = np.arange(0.1, 2.2, 0.5)\n",
    "# n_estimators    = np.arange(1, 200, 25)\n",
    "# max_depth        = np.arange(2, 8, 1)\n",
    "# min_samples_leaf   = np.arange(30, 51, 5)\n",
    "\n",
    "# # creating a hyperparameter grid\n",
    "# param_grid = {'learning_rate' : learning_rate,\n",
    "#               'n_estimators'     : n_estimators,\n",
    "#               'max_depth'  : max_depth,\n",
    "#               'min_samples_leaf'    : min_samples_leaf}\n",
    "\n",
    "\n",
    "# # INSTANTIATING the model object without hyperparameters\n",
    "# full_gbm_grid = GradientBoostingClassifier(random_state = 219)\n",
    "\n",
    "\n",
    "# # GridSearchCV object\n",
    "# full_gbm_cv = RandomizedSearchCV(estimator     = full_gbm_grid,\n",
    "#                            param_distributions = param_grid,\n",
    "#                            cv                  = 3,\n",
    "#                            n_iter              = 500,\n",
    "#                            random_state        = 219,\n",
    "#                            scoring             = make_scorer(roc_auc_score,\n",
    "#                                                  needs_threshold = False))\n",
    "\n",
    "\n",
    "# # FITTING to the FULL DATASET (due to cross-validation)\n",
    "# full_gbm_cv.fit(x_train, y_train)\n",
    "\n",
    "\n",
    "# # PREDICT step is not needed\n",
    "\n",
    "\n",
    "# # printing the optimal parameters and best score\n",
    "# print(\"Tuned Parameters  :\", full_gbm_cv.best_params_)\n",
    "# print(\"Tuned Training AUC:\", full_gbm_cv.best_score_.round(4))"
   ]
  },
  {
   "cell_type": "markdown",
   "id": "da4da25e",
   "metadata": {},
   "source": [
    "## Gradient Boosted Machines"
   ]
  },
  {
   "cell_type": "code",
   "execution_count": 35,
   "id": "3fa87ae3",
   "metadata": {},
   "outputs": [
    {
     "name": "stdout",
     "output_type": "stream",
     "text": [
      "Training ACCURACY: 0.8212\n",
      "Testing  ACCURACY: 0.8923\n",
      "AUC Score        : 0.8686\n",
      "\n",
      "True Negatives : 41\n",
      "False Positives: 9\n",
      "False Negatives: 12\n",
      "True Positives : 133\n",
      "\n"
     ]
    }
   ],
   "source": [
    "# INSTANTIATING with best_estimator\n",
    "gbm_tuned = GradientBoostingClassifier(n_estimators = 1,\n",
    "                                       min_samples_leaf     = 30,\n",
    "                                       max_depth  = 5,\n",
    "                                       learning_rate  = 1.1)\n",
    "\n",
    "\n",
    "# FITTING to the train dataset(could use full, due to tuning)\n",
    "gbm_tuned_fit = gbm_tuned.fit(x_train, y_train)\n",
    "\n",
    "\n",
    "# PREDICTING based on the testing set\n",
    "gbm_tuned_pred = gbm_tuned_fit.predict(x_test)\n",
    "\n",
    "\n",
    "# SCORING the results\n",
    "print('Training ACCURACY:', gbm_tuned_fit.score(x_train, y_train).round(4))\n",
    "print('Testing  ACCURACY:', gbm_tuned_fit.score(x_test, y_test).round(4))\n",
    "print('AUC Score        :', roc_auc_score(y_true  = y_test,\n",
    "                                          y_score = gbm_tuned_pred).round(4))\n",
    "\n",
    "# unpacking the confusion matrix\n",
    "gbm_tuned_tn, \\\n",
    "gbm_tuned_fp, \\\n",
    "gbm_tuned_fn, \\\n",
    "gbm_tuned_tp = confusion_matrix(y_true = y_test, y_pred = gbm_tuned_pred).ravel()\n",
    "\n",
    "\n",
    "# printing each result one-by-one\n",
    "print(f\"\"\"\n",
    "True Negatives : {gbm_tuned_tn}\n",
    "False Positives: {gbm_tuned_fp}\n",
    "False Negatives: {gbm_tuned_fn}\n",
    "True Positives : {gbm_tuned_tp}\n",
    "\"\"\")\n",
    "\n",
    "# declaring model performance objects\n",
    "gbm_train_acc = gbm_tuned_fit.score(x_train, y_train).round(4)\n",
    "gbm_test_acc  = gbm_tuned_fit.score(x_test, y_test).round(4)\n",
    "gbm_auc       = roc_auc_score(y_true  = y_test,\n",
    "                              y_score = gbm_tuned_pred).round(4)\n",
    "\n"
   ]
  },
  {
   "cell_type": "markdown",
   "id": "967740bc",
   "metadata": {},
   "source": [
    "# Final Output"
   ]
  },
  {
   "cell_type": "code",
   "execution_count": 36,
   "id": "e0366cd6",
   "metadata": {},
   "outputs": [
    {
     "name": "stdout",
     "output_type": "stream",
     "text": [
      "\n",
      "Model         AUC Score      Training Accuracy      Testing Accuracy    TN, FP, FN, TP\n",
      "-----         ---------      -----------------      ----------------    --------------\n",
      "Logistic      0.8159         0.7236                 0.7846              (44, 6, 36, 109)\n",
      "Tree          0.8366         0.8521                 0.9128              (34, 16, 1, 144)\n",
      "KNN           0.8414         0.8995                 0.8615              (40, 10, 17, 128)\n",
      "Random Forest 0.8362         0.8652                 0.9026              (35, 15, 4, 141)\n",
      "*GBM          0.8686         0.8212                 0.8923              (41, 9, 12, 133)\n",
      "\n",
      "*Final Model\n"
     ]
    }
   ],
   "source": [
    "# comparing results and choosing final, based on high AUC and all scores lower \n",
    "# than 0.9\n",
    "print(f\"\"\"\n",
    "Model         AUC Score      Training Accuracy      Testing Accuracy\\\n",
    "    TN, FP, FN, TP\n",
    "-----         ---------      -----------------      ----------------\\\n",
    "    --------------\n",
    "Logistic      {logreg_auc_score}         {logreg_train_score}\\\n",
    "                 {logreg_test_score}\\\n",
    "              {logreg_tn, logreg_fp, logreg_fn, logreg_tp}\n",
    "Tree          {pruned_tree_auc_score}         {pruned_tree_train_score}\\\n",
    "                 {pruned_tree_test_score}\\\n",
    "              {pruned_tree_tn, pruned_tree_fp, pruned_tree_fn, pruned_tree_tp}\n",
    "KNN           {knn_auc_score}         {knn_train_score}\\\n",
    "                 {knn_test_score}\\\n",
    "              {knn_tn, knn_fp, knn_fn, knn_tp}\n",
    "Random Forest {forest_tuned_auc}         {forest_tuned_train_score}\\\n",
    "                 {forest_tuned_test_score}\\\n",
    "              {tuned_rf_tn, tuned_rf_fp, tuned_rf_fn, tuned_rf_tp}\n",
    "*GBM          {gbm_auc}         {gbm_train_acc}\\\n",
    "                 {gbm_test_acc}\\\n",
    "              {gbm_tuned_tn, gbm_tuned_fp, gbm_tuned_fn, gbm_tuned_tp}\n",
    "\n",
    "*Final Model\"\"\")\n"
   ]
  },
  {
   "cell_type": "code",
   "execution_count": null,
   "id": "002d4455",
   "metadata": {},
   "outputs": [],
   "source": []
  }
 ],
 "metadata": {
  "kernelspec": {
   "display_name": "Python 3",
   "language": "python",
   "name": "python3"
  },
  "language_info": {
   "codemirror_mode": {
    "name": "ipython",
    "version": 3
   },
   "file_extension": ".py",
   "mimetype": "text/x-python",
   "name": "python",
   "nbconvert_exporter": "python",
   "pygments_lexer": "ipython3",
   "version": "3.8.8"
  },
  "toc": {
   "base_numbering": 1,
   "nav_menu": {},
   "number_sections": true,
   "sideBar": true,
   "skip_h1_title": false,
   "title_cell": "Table of Contents",
   "title_sidebar": "Contents",
   "toc_cell": false,
   "toc_position": {
    "height": "calc(100% - 180px)",
    "left": "10px",
    "top": "150px",
    "width": "274.901px"
   },
   "toc_section_display": true,
   "toc_window_display": false
  },
  "varInspector": {
   "cols": {
    "lenName": 16,
    "lenType": 16,
    "lenVar": 40
   },
   "kernels_config": {
    "python": {
     "delete_cmd_postfix": "",
     "delete_cmd_prefix": "del ",
     "library": "var_list.py",
     "varRefreshCmd": "print(var_dic_list())"
    },
    "r": {
     "delete_cmd_postfix": ") ",
     "delete_cmd_prefix": "rm(",
     "library": "var_list.r",
     "varRefreshCmd": "cat(var_dic_list()) "
    }
   },
   "types_to_exclude": [
    "module",
    "function",
    "builtin_function_or_method",
    "instance",
    "_Feature"
   ],
   "window_display": false
  }
 },
 "nbformat": 4,
 "nbformat_minor": 5
}
